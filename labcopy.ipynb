{
 "cells": [
  {
   "cell_type": "code",
   "execution_count": null,
   "metadata": {},
   "outputs": [],
   "source": [
    "predictions_df = pd.DataFrame()\n",
    "predictions_df[\"Actual\"] = y_test\n",
    "predictions_df[\"Predicted\"] = predictions"
   ]
  },
  {
   "cell_type": "code",
   "execution_count": null,
   "metadata": {},
   "outputs": [],
   "source": [
    "predictions_df = predictions_df.sort_index()"
   ]
  },
  {
   "cell_type": "code",
   "execution_count": null,
   "metadata": {},
   "outputs": [],
   "source": [
    "predictions_df[\"Close\"] = tsla_df[\"Close\"].iloc[predictions_df.index]\n",
    "predictions_df[\"Actual Returns\"] = tsla_df[\"Close\"].pct_change().iloc[predictions_df.index]\n",
    "predictions_df[\"Tweet Buy/Sell\"] = predictions_df[\"Predicted\"].shift(1)\n",
    "# predictions_df[\"Tweet Buy/Sell\"] = predictions_df[\"Predicted\"]\n",
    "predictions_df[\"Momentum Buy/Sell\"] = predictions_df[\"Actual\"].shift(1)\n",
    "# predictions_df[\"Momentum Buy/Sell\"] = predictions_df[\"Actual\"]"
   ]
  },
  {
   "cell_type": "code",
   "execution_count": null,
   "metadata": {},
   "outputs": [],
   "source": [
    "predictions_df.reset_index(inplace=True)"
   ]
  },
  {
   "cell_type": "code",
   "execution_count": null,
   "metadata": {},
   "outputs": [],
   "source": [
    "predictions_df = predictions_df.dropna()"
   ]
  },
  {
   "cell_type": "code",
   "execution_count": null,
   "metadata": {},
   "outputs": [],
   "source": [
    "predictions_df[\"Momentum Strategy Returns\"] = (\n",
    "    predictions_df[\"Actual Returns\"] * predictions_df[\"Momentum Buy/Sell\"]\n",
    ")"
   ]
  },
  {
   "cell_type": "code",
   "execution_count": null,
   "metadata": {},
   "outputs": [],
   "source": [
    "predictions_df[\"Tweet Strategy Returns\"] = (\n",
    "    predictions_df[\"Actual Returns\"] * predictions_df[\"Tweet Buy/Sell\"]\n",
    ")\n",
    "predictions_df"
   ]
  },
  {
   "cell_type": "code",
   "execution_count": null,
   "metadata": {},
   "outputs": [],
   "source": [
    "predictions_df[\"Actual Cumulative Returns\"] = (1 + predictions_df[\"Actual Returns\"]).cumprod()\n",
    "predictions_df[\"Momentum Cumulative Returns\"] = (1 + predictions_df[\"Momentum Strategy Returns\"]).cumprod()\n",
    "predictions_df[\"Tweet Cumulative Returns\"] = (1 + predictions_df[\"Tweet Strategy Returns\"]).cumprod()\n",
    "predictions_df"
   ]
  },
  {
   "cell_type": "code",
   "execution_count": null,
   "metadata": {},
   "outputs": [],
   "source": [
    "hvplot.extension(\"bokeh\")\n",
    "(predictions_df[[\"Actual Cumulative Returns\", \"Momentum Cumulative Returns\", \"Tweet Cumulative Returns\"]]).hvplot()"
   ]
  }
 ],
 "metadata": {
  "kernelspec": {
   "display_name": "Python 3.10.2 64-bit",
   "language": "python",
   "name": "python3"
  },
  "language_info": {
   "name": "python",
   "version": "3.10.2"
  },
  "orig_nbformat": 4,
  "vscode": {
   "interpreter": {
    "hash": "2d2d6760d3733bf9fc8b7a105753e52665e6329ccd4e8539ab85fef63649f337"
   }
  }
 },
 "nbformat": 4,
 "nbformat_minor": 2
}
